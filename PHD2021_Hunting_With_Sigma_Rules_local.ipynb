{
 "cells": [
  {
   "cell_type": "markdown",
   "metadata": {
    "slideshow": {
     "slide_type": "slide"
    }
   },
   "source": [
    "# Импортируем необходимые модули"
   ]
  },
  {
   "cell_type": "code",
   "execution_count": null,
   "metadata": {
    "slideshow": {
     "slide_type": "-"
    }
   },
   "outputs": [],
   "source": [
    "import pandas as pd\n",
    "\n",
    "from tqdm.auto import tqdm\n",
    "from IPython.display import display\n",
    "\n",
    "from msticpy.nbtools import *\n",
    "from msticpy.sectools import *\n",
    "from msticpy.data import QueryProvider"
   ]
  },
  {
   "cell_type": "markdown",
   "metadata": {
    "slideshow": {
     "slide_type": "slide"
    }
   },
   "source": [
    "# Вспомогательные функции"
   ]
  },
  {
   "cell_type": "code",
   "execution_count": null,
   "metadata": {
    "slideshow": {
     "slide_type": "-"
    }
   },
   "outputs": [],
   "source": [
    "def strip_na(df: pd.DataFrame) -> pd.DataFrame:\n",
    "    return df[df.columns[~df.isnull().all()]]"
   ]
  },
  {
   "cell_type": "markdown",
   "metadata": {
    "slideshow": {
     "slide_type": "slide"
    }
   },
   "source": [
    "# Загружаем данные"
   ]
  },
  {
   "cell_type": "code",
   "execution_count": null,
   "metadata": {
    "slideshow": {
     "slide_type": "-"
    }
   },
   "outputs": [],
   "source": [
    "local_provider = QueryProvider(\"LocalData\", data_paths=[\"dataset\"])\n",
    "local_provider.connect()\n",
    "events = local_provider.exec_query(\"PHD2021_Threat_Research_Workshop_Host_Events.pkl\")"
   ]
  },
  {
   "cell_type": "code",
   "execution_count": null,
   "metadata": {
    "slideshow": {
     "slide_type": "-"
    }
   },
   "outputs": [],
   "source": [
    "events.shape"
   ]
  },
  {
   "cell_type": "markdown",
   "metadata": {
    "slideshow": {
     "slide_type": "slide"
    }
   },
   "source": [
    "# Ищем сработку"
   ]
  },
  {
   "cell_type": "markdown",
   "metadata": {
    "slideshow": {
     "slide_type": "slide"
    }
   },
   "source": [
    "## Мапим поля на нужные названия"
   ]
  },
  {
   "cell_type": "code",
   "execution_count": null,
   "metadata": {
    "slideshow": {
     "slide_type": "-"
    }
   },
   "outputs": [],
   "source": [
    "events = events.astype(str)\n",
    "events['TimeCreated'] = pd.to_datetime(events['time'])\n",
    "events['Computer'] = events['event_src.host']\n",
    "events['EventID'] = events['msgid'].apply(lambda x: int(x))\n",
    "events['TimeGenerated'] = pd.to_datetime(events['time'])\n",
    "events['NewProcessName'] = events['object.name']\n",
    "events['NewProcessId'] = events['object.id']\n",
    "events['ParentProcessName'] = events['datafield4']\n",
    "events['ProcessId'] = events['datafield2']\n",
    "events['SubjectLogonId'] = events['datafield1']\n",
    "events['TargetLogonId'] = events['datafield7']\n",
    "events['CommandLine'] = events['datafield5']\n",
    "events['cmd'] = events['datafield5']\n",
    "events['ParentCommandLine'] = events['datafield9']\n",
    "events['SubjectUserName'] = events['subject.name']\n",
    "events['SubjectUserSid'] = events['subject.id'] \n",
    "events['TenantId'] = \"\""
   ]
  },
  {
   "cell_type": "markdown",
   "metadata": {
    "slideshow": {
     "slide_type": "slide"
    }
   },
   "source": [
    "## Поиск подозрительного процесса\n",
    "\n",
    "Среди всех событий ищем (по UUID) то, на которое отработал фильтр\n",
    "\n",
    "> 00000006-09e5-0e8f-f000-0000338adaef"
   ]
  },
  {
   "cell_type": "code",
   "execution_count": null,
   "metadata": {
    "slideshow": {
     "slide_type": "-"
    }
   },
   "outputs": [],
   "source": [
    "proc_herpaderping_events = events[events.uuid == \"\"]\n",
    "displayed_columns = [\"reason\", \"NewProcessName\", \"NewProcessId\", \"TimeCreated\", \"EventID\"]\n",
    "proc_herpaderping_events = strip_na(proc_herpaderping_events)[displayed_columns]\n",
    "display(proc_herpaderping_events)"
   ]
  },
  {
   "cell_type": "markdown",
   "metadata": {
    "slideshow": {
     "slide_type": "slide"
    }
   },
   "source": [
    "## Находим событие запуска подозрительного процесса среди событий Sysmon 1"
   ]
  },
  {
   "cell_type": "code",
   "execution_count": null,
   "metadata": {
    "slideshow": {
     "slide_type": "-"
    }
   },
   "outputs": [],
   "source": [
    "susp_proc_pid = proc_herpaderping_events[\"NewProcessId\"].values[0]\n",
    "susp_proc_creation_event = events[(events.EventID == 1) & (events.NewProcessId == susp_proc_pid)]\n",
    "displayed_columns = [\"Computer\", \"SubjectLogonId\", \"NewProcessId\", \"NewProcessName\", \"ProcessId\", \"ParentProcessName\", \"TimeCreated\", \"EventID\"]\n",
    "susp_proc_creation_event = susp_proc_creation_event[susp_proc_creation_event.columns[~susp_proc_creation_event.isnull().all()]][displayed_columns]\n",
    "display(susp_proc_creation_event)"
   ]
  },
  {
   "cell_type": "markdown",
   "metadata": {
    "slideshow": {
     "slide_type": "slide"
    }
   },
   "source": [
    "## Отображаем дерево процессов к которому принадлежит найденный процесс"
   ]
  },
  {
   "cell_type": "code",
   "execution_count": null,
   "metadata": {
    "slideshow": {
     "slide_type": "-"
    }
   },
   "outputs": [],
   "source": [
    "full_tree = ptree.build_process_tree(events, show_progress=True)\n",
    "susp_proc_index = full_tree[full_tree.ProcessId == susp_proc_pid].index.values[0]\n",
    "susp_proc_tree = ptree.get_root_tree(full_tree, susp_proc_index)\n",
    "\n",
    "nbdisplay.plot_process_tree(data=susp_proc_tree, legend_col=\"SubjectUserName\", show_table=False)"
   ]
  },
  {
   "cell_type": "markdown",
   "metadata": {
    "slideshow": {
     "slide_type": "slide"
    }
   },
   "source": [
    "# Посмотрим статистику по деревьям процессов"
   ]
  },
  {
   "cell_type": "code",
   "execution_count": null,
   "metadata": {
    "slideshow": {
     "slide_type": "-"
    }
   },
   "outputs": [],
   "source": [
    "# убираем ограничение на длину столбцов\n",
    "pd.set_option('display.max_colwidth', None)\n",
    "\n",
    "roots = ptree.get_roots(full_tree)\n",
    "trees = []\n",
    "for row_num, (ix, row) in enumerate(roots.iterrows()):\n",
    "    tree = ptree.get_descendents(full_tree, row)\n",
    "    trees.append({\n",
    "        \"Row\": row_num,\n",
    "        \"PID\": roots.loc[ix].NewProcessId,\n",
    "        \"RootProcess\": roots.loc[ix].NewProcessName,\n",
    "        \"Index\": ix,\n",
    "        \"TreeSize:\": len(tree),\n",
    "        \"TreeDepth\": ptree.get_tree_depth(tree),\n",
    "        \"LogonId\": roots.loc[ix].SubjectLogonId\n",
    "    })\n",
    "    \n",
    "pd.DataFrame(trees).sort_values('TreeDepth', ascending=False).head()"
   ]
  },
  {
   "cell_type": "markdown",
   "metadata": {
    "slideshow": {
     "slide_type": "slide"
    }
   },
   "source": [
    "# Видим, что одно из деревьев значительно выделяется на фоне остальных\n",
    "\n",
    "Визуализируем деревья процессов, чтобы детальнее понять что из себя представляет аномальное дерево.\n",
    "\n",
    "Фильтруем по идентификатору сессии, в рамках которой были запуски\n",
    "\n",
    "> 10781108"
   ]
  },
  {
   "cell_type": "code",
   "execution_count": null,
   "metadata": {
    "slideshow": {
     "slide_type": "-"
    }
   },
   "outputs": [],
   "source": [
    "import networkx as nx\n",
    "\n",
    "from bokeh.io import show\n",
    "from bokeh.models import (Circle, Arrow, NormalHead, EdgesAndLinkedNodes, HoverTool, WheelZoomTool, ResetTool, SaveTool, PanTool,\n",
    "                          MultiLine, NodesAndLinkedEdges, Plot, Range1d, Label, LabelSet, ColumnDataSource,)\n",
    "from bokeh.palettes import Spectral4, YlGnBu4\n",
    "from bokeh.plotting import from_networkx, figure\n",
    "\n",
    "susp_processes = events[events['SubjectLogonId'] == '']\n",
    "\n",
    "G = nx.DiGraph()\n",
    "G = nx.from_pandas_edgelist(\n",
    "    df=susp_processes,\n",
    "    source=\"ProcessId\",\n",
    "    target=\"NewProcessId\",\n",
    "    edge_attr=[\"TimeCreated\", \"NewProcessName\", \"CommandLine\", \"NewProcessId\", \"ProcessId\"],\n",
    "    create_using=nx.DiGraph,\n",
    ")\n",
    "\n",
    "\n",
    "plot = Plot(plot_width=1000, plot_height=1000,\n",
    "            x_range=Range1d(-1.1,1.1), y_range=Range1d(-1.1,1.1))\n",
    "plot.title.text = \"Processes graph\"\n",
    "\n",
    "plot.add_tools(\n",
    "    HoverTool(tooltips=[(\"CommandLine\", \"@CommandLine\"),(\"ParentPID\", \"@ParentProcessId\"), (\"PID\", \"@ProcessId\")]), \n",
    "    WheelZoomTool(),\n",
    "    ResetTool(),\n",
    "    SaveTool(),PanTool())\n",
    "\n",
    "graph_renderer = from_networkx(G, nx.circular_layout, scale=1, center=(0,0))\n",
    "\n",
    "graph_renderer.node_renderer.glyph = Circle(size=15, fill_color=Spectral4[0])\n",
    "graph_renderer.node_renderer.selection_glyph = Circle(size=15, fill_color=Spectral4[2])\n",
    "graph_renderer.node_renderer.hover_glyph = Circle(size=15, fill_color=Spectral4[1])\n",
    "\n",
    "graph_renderer.edge_renderer.glyph = MultiLine(line_color=\"#CCCCCC\", line_alpha=0.8, line_width=5)\n",
    "graph_renderer.edge_renderer.selection_glyph = MultiLine(line_color=Spectral4[2], line_width=5)\n",
    "graph_renderer.edge_renderer.hover_glyph = MultiLine(line_color=Spectral4[1], line_width=5)\n",
    "\n",
    "graph_renderer.selection_policy = NodesAndLinkedEdges()\n",
    "graph_renderer.inspection_policy = EdgesAndLinkedNodes()\n",
    "\n",
    "positions_df = pd.DataFrame(list(graph_renderer.layout_provider.graph_layout.items()), columns=[\"NewProcessId\", \"Positions\"])\n",
    "positions_df[['x', 'y']] = pd.DataFrame(positions_df['Positions'].tolist(), columns=['x', 'y'])\n",
    "positions_df.set_index(\"NewProcessId\", inplace=True)\n",
    "positions_df.drop('Positions', axis='columns', inplace=True)\n",
    "\n",
    "data_df = graph_renderer.edge_renderer.data_source.to_df()\n",
    "data_df.set_index(\"NewProcessId\", inplace=True)\n",
    "\n",
    "image_df = pd.DataFrame(list(data_df.apply(lambda x: x.NewProcessName.split(\"\\\\\")[-1], axis=1).to_dict().items()), columns=[\"NewProcessId\", \"ImageName\"])\n",
    "image_df.set_index('NewProcessId')\n",
    "data_df = pd.merge(left=data_df, right=image_df, how='left', left_on=['NewProcessId'], right_on = ['NewProcessId'])\n",
    "\n",
    "e = pd.merge(left=data_df, right=positions_df, how='left', left_on=['NewProcessId'], right_on = ['NewProcessId'])\n",
    "\n",
    "ttt = pd.merge(left=data_df, right=positions_df, how='left', left_on=['start'], right_on = ['NewProcessId'])\n",
    "ttt = pd.merge(left=ttt, right=positions_df, how='left', left_on=['end'], right_on = ['NewProcessId'])\n",
    "\n",
    "for index, row in ttt.iterrows():\n",
    "    plot.add_layout(Arrow(end=NormalHead(fill_color=YlGnBu4[1], size=10), line_color=YlGnBu4[1],\n",
    "                   x_start=row['x_x'], y_start=row['y_x'], x_end=row['x_y'], y_end=row['y_y']))\n",
    "\n",
    "plot.add_layout(LabelSet(x='x', y='y', text='ImageName',\n",
    "              x_offset=5, y_offset=5, source=ColumnDataSource(e), render_mode='canvas'))\n",
    "\n",
    "plot.renderers.append(graph_renderer)\n"
   ]
  },
  {
   "cell_type": "code",
   "execution_count": null,
   "metadata": {
    "slideshow": {
     "slide_type": "slide"
    }
   },
   "outputs": [],
   "source": [
    "show(plot)"
   ]
  },
  {
   "cell_type": "markdown",
   "metadata": {
    "slideshow": {
     "slide_type": "slide"
    }
   },
   "source": [
    "## Теперь взглянем на картину в целом, объединив разные типы событий"
   ]
  },
  {
   "cell_type": "code",
   "execution_count": null,
   "metadata": {
    "slideshow": {
     "slide_type": "slide"
    }
   },
   "outputs": [],
   "source": [
    "share_access = (\n",
    "        events[(events[\"EventID\"].isin([5140, 5145]))]\n",
    "        .rename(\n",
    "            columns={\n",
    "                \"src.ip\": \"IpAddress\",\n",
    "                \"src.port\":\"IpPort\",\n",
    "                \"datafield4\": \"RelativeTargetName\"\n",
    "            }\n",
    "        )\n",
    "    )"
   ]
  },
  {
   "cell_type": "code",
   "execution_count": null,
   "metadata": {
    "slideshow": {
     "slide_type": "-"
    }
   },
   "outputs": [],
   "source": [
    "logons = (\n",
    "        events[events[\"EventID\"].isin([4624, 4672])]\n",
    "        .rename(\n",
    "            columns={\n",
    "                \"TargetLogonId\": \"subject.id\",\n",
    "                \"TargetUserName\":\"subject.name\"\n",
    "            }\n",
    "        )\n",
    "    )"
   ]
  },
  {
   "cell_type": "code",
   "execution_count": null,
   "metadata": {
    "slideshow": {
     "slide_type": "slide"
    }
   },
   "outputs": [],
   "source": [
    "processes_on_host = events[events.EventID == 1]\n",
    "\n",
    "procs_and_logons_and_share = {\n",
    "    \"Processes\" : {\"data\": processes_on_host, \"source_columns\": [\"EventID\", \"NewProcessName\", \"SubjectUserName\", \"SubjectLogonId\", \"CommandLine\", \"ParentCommandLine\"]},\n",
    "    \"Logons\": {\"data\": logons, \"source_columns\": [\"EventID\", \"SubjectUserName\", \"SubjectLogonId\", \"logon_type\", \"Computer\"]},\n",
    "    \"ShareAccess\":{\"data\": share_access, \"source_columns\": [\"EventID\", \"SubjectUserName\", \"SubjectLogonId\", \"RelativeTargetName\", \"IpAddress\", \"IpPort\"]}\n",
    "}\n",
    "\n",
    "nbdisplay.display_timeline(data=procs_and_logons_and_share,\n",
    "                           title=\"Logons, Processes and Share access groupped by EventID\",\n",
    "                           legend=\"left\", yaxis=False);"
   ]
  },
  {
   "cell_type": "markdown",
   "metadata": {
    "slideshow": {
     "slide_type": "slide"
    }
   },
   "source": [
    "## Напоследок\n",
    "\n",
    "Мы раскрутили всю цепочку действий на машине. Можно теперь просто отобразить в виджете весь граф процессов. \n",
    "Может что-то упустили."
   ]
  },
  {
   "cell_type": "code",
   "execution_count": null,
   "metadata": {
    "slideshow": {
     "slide_type": "-"
    }
   },
   "outputs": [],
   "source": [
    "full_tree = ptree.build_process_tree(events, show_progress=True)\n",
    "nbdisplay.plot_process_tree(data=full_tree, legend_col=\"SubjectUserName\", show_table=False)"
   ]
  }
 ],
 "metadata": {
  "celltoolbar": "Slideshow",
  "kernelspec": {
   "display_name": "Python 3",
   "language": "python",
   "name": "python3"
  },
  "language_info": {
   "codemirror_mode": {
    "name": "ipython",
    "version": 3
   },
   "file_extension": ".py",
   "mimetype": "text/x-python",
   "name": "python",
   "nbconvert_exporter": "python",
   "pygments_lexer": "ipython3",
   "version": "3.7.3"
  }
 },
 "nbformat": 4,
 "nbformat_minor": 2
}
