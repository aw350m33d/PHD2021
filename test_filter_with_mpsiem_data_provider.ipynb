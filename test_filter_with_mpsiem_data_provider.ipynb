{
 "cells": [
  {
   "cell_type": "code",
   "execution_count": null,
   "metadata": {
    "slideshow": {
     "slide_type": "slide"
    }
   },
   "outputs": [],
   "source": [
    "import pandas as pd\n",
    "\n",
    "from msticpy.data import QueryProvider\n",
    "from msticpy.nbtools import nbwidgets"
   ]
  },
  {
   "cell_type": "code",
   "execution_count": null,
   "metadata": {
    "slideshow": {
     "slide_type": "-"
    }
   },
   "outputs": [],
   "source": [
    "mpsiem_data = QueryProvider(\"MPSIEM\")\n",
    "connection_string = \"host=;username=PHD2021Buddy;password=bv<Y>3H3bv<Y>3H3\"\n",
    "mpsiem_data.connect(connection_string)"
   ]
  },
  {
   "cell_type": "code",
   "execution_count": null,
   "metadata": {
    "slideshow": {
     "slide_type": "slide"
    }
   },
   "outputs": [],
   "source": [
    "q_times = nbwidgets.QueryTime(units='day', max_before=20, before=3, max_after=0)\n",
    "q_times.display()"
   ]
  },
  {
   "cell_type": "code",
   "execution_count": null,
   "metadata": {
    "slideshow": {
     "slide_type": "slide"
    }
   },
   "outputs": [],
   "source": [
    "mp_siem_filter = !python3 $HOME/sigma/tools/sigmac -t mpsiem -c mpsiem $HOME/sigma/rules/windows/sysmon/sysmon_process_tamperig.yml"
   ]
  },
  {
   "cell_type": "code",
   "execution_count": null,
   "metadata": {
    "slideshow": {
     "slide_type": "-"
    }
   },
   "outputs": [],
   "source": [
    "query = mp_siem_filter[0]\n",
    "query_events = mpsiem_data.exec_query(query=query, count=100, time_start=q_times.start, time_end=q_times.end)\n",
    "print(F'\\r\\nDataFrame shape: {query_events.shape}\\r\\n')\n",
    "with pd.option_context('display.max_rows', 100,'display.max_colwidth', 1000):\n",
    "    display(query_events[[\"time\", \"uuid\", \"text\", \"object.name\", \"object.id\", \"event_src.title\", \"msgid\"]].iloc[0])"
   ]
  }
 ],
 "metadata": {
  "celltoolbar": "Слайд-шоу",
  "kernelspec": {
   "display_name": "Python 3",
   "language": "python",
   "name": "python3"
  },
  "language_info": {
   "codemirror_mode": {
    "name": "ipython",
    "version": 3
   },
   "file_extension": ".py",
   "mimetype": "text/x-python",
   "name": "python",
   "nbconvert_exporter": "python",
   "pygments_lexer": "ipython3",
   "version": "3.7.3"
  }
 },
 "nbformat": 4,
 "nbformat_minor": 2
}
