{
 "cells": [
  {
   "cell_type": "markdown",
   "metadata": {
    "slideshow": {
     "slide_type": "slide"
    }
   },
   "source": [
    "# Введение в Pandas\n",
    "\n",
    "Pandas - это библиотека языка Python, которая обеспечивает гибкую и эффективную работу с размеченными данными.\n",
    "\n",
    "Устанавливается через пакетный менеджер `pip`.\n",
    "\n",
    "Установка из консоли:\n",
    "\n",
    "```bash\n",
    "    pip install pandas\n",
    "```\n",
    "\n",
    "Установка непосредственно из Jupyter notebook:\n",
    "```\n",
    "    ! pip install pandas\n",
    "```\n",
    "\n",
    "> *Примечание:*\n",
    "> В зависимости от вашего текущего окружения, вам нужно будет запускать либо `pip`, либо `pip3`\n",
    "\n",
    "После установки, достаточно импортировать библиотеку стандартным способом:\n"
   ]
  },
  {
   "cell_type": "code",
   "execution_count": null,
   "metadata": {
    "slideshow": {
     "slide_type": "-"
    }
   },
   "outputs": [],
   "source": [
    "import pandas as pd"
   ]
  },
  {
   "cell_type": "markdown",
   "metadata": {
    "slideshow": {
     "slide_type": "slide"
    }
   },
   "source": [
    "# Поддерживаемые структуры данных\n",
    "- **Series** - одномерный массив, аналогичен словарю в языке Python.\n",
    "- **DataFrame** - двумерный массив, аналогичен списку словарей (с одинаковыми ключами) в языке Python. По сути массив Series.\n",
    "- Словарь, значениями которого являются DataFrame."
   ]
  },
  {
   "cell_type": "markdown",
   "metadata": {
    "slideshow": {
     "slide_type": "slide"
    }
   },
   "source": [
    "# Series\n",
    " * Можно себе представлять примерно так:\n",
    "   \n",
    "   ```json\n",
    "    {\"key1\": \"value1\", \"key2\": \"value2\"}\n",
    "    ```\n",
    "   \n",
    "   По сути это cтрока таблицы, в которой в ключах указаны названия колонок, а в значениях содержатся непоредственно данные:\n",
    "   \n",
    "    |       |  key1  | key2   |\n",
    "    | :---: | :----: | :----: |\n",
    "    |row -->| value1 | value2 |"
   ]
  },
  {
   "cell_type": "code",
   "execution_count": null,
   "metadata": {
    "slideshow": {
     "slide_type": "slide"
    }
   },
   "outputs": [],
   "source": [
    "series = pd.Series({\"key1\": \"value1\", \"key2\": \"value2\"})\n",
    "series.head()"
   ]
  },
  {
   "cell_type": "code",
   "execution_count": null,
   "metadata": {
    "slideshow": {
     "slide_type": "-"
    }
   },
   "outputs": [],
   "source": [
    "series_auto_index = pd.Series([\"value1\", \"value2\"])\n",
    "series_auto_index.head()"
   ]
  },
  {
   "cell_type": "code",
   "execution_count": null,
   "metadata": {
    "slideshow": {
     "slide_type": "-"
    }
   },
   "outputs": [],
   "source": [
    "series_custom_index = pd.Series([\"value1\", \"value2\"], index=[\"key1\", \"key2\"])\n",
    "series_custom_index.head()"
   ]
  },
  {
   "cell_type": "markdown",
   "metadata": {
    "slideshow": {
     "slide_type": "slide"
    }
   },
   "source": [
    "# DataFrame\n",
    "\n",
    "* Можно себе представлять примерно так:\n",
    "    ```json\n",
    "    [\n",
    "        {\"key1\": \"value1\", \"key2\": \"value2\"}, \n",
    "        {\"key1\": \"value3\", \"key2\": \"value4\"}\n",
    "    ]\n",
    "    ```\n",
    "    По сути это таблица, где каждая из строк это Series:\n",
    "    |       |  key1  | key2   |\n",
    "    | :---: | :----: | :----: |\n",
    "    |1 row -->| value1 | value2 |\n",
    "    |2 row -->| value3 | value4 |\n",
    "    "
   ]
  },
  {
   "cell_type": "code",
   "execution_count": null,
   "metadata": {
    "slideshow": {
     "slide_type": "slide"
    }
   },
   "outputs": [],
   "source": [
    "dataframe = pd.DataFrame([\n",
    "      {\"key1\": \"value1\", \"key2\": \"value2\", \"key3\":\"value3\"}, \n",
    "      {\"key1\": \"value4\", \"key2\": \"value5\"} # <-- если в одной из строк нет значения, то туда проставляется пустое значение\n",
    "  ])\n",
    "dataframe.head()"
   ]
  },
  {
   "cell_type": "code",
   "execution_count": null,
   "metadata": {
    "slideshow": {
     "slide_type": "-"
    }
   },
   "outputs": [],
   "source": [
    "dataframe_auto_columns = pd.DataFrame([\n",
    "      [\"value1\", \"value2\"], \n",
    "      [\"value3\", \"value4\"]\n",
    "  ])\n",
    "dataframe_auto_columns.head()"
   ]
  },
  {
   "cell_type": "code",
   "execution_count": null,
   "metadata": {
    "slideshow": {
     "slide_type": "-"
    }
   },
   "outputs": [],
   "source": [
    "dataframe_custom_columns = pd.DataFrame([\n",
    "      [\"value1\", \"value2\"], \n",
    "      [\"value3\", \"value4\"]\n",
    "  ], columns = [\"key1\", \"key2\"])\n",
    "dataframe_custom_columns.head()"
   ]
  },
  {
   "cell_type": "markdown",
   "metadata": {
    "slideshow": {
     "slide_type": "slide"
    }
   },
   "source": [
    "# Получение информации о структуре данных\n",
    "\n",
    "Размерность - **DataFrame.shape**, **len(DataFrame)**\n",
    "\n",
    "- _dataframe.shape_\n",
    "- _len(dataframe)_\n",
    "\n"
   ]
  },
  {
   "cell_type": "code",
   "execution_count": null,
   "metadata": {
    "slideshow": {
     "slide_type": "-"
    }
   },
   "outputs": [],
   "source": [
    "dataframe.shape"
   ]
  },
  {
   "cell_type": "code",
   "execution_count": null,
   "metadata": {
    "slideshow": {
     "slide_type": "-"
    }
   },
   "outputs": [],
   "source": [
    "len(dataframe)"
   ]
  },
  {
   "cell_type": "code",
   "execution_count": null,
   "metadata": {
    "slideshow": {
     "slide_type": "-"
    }
   },
   "outputs": [],
   "source": [
    "dataframe.head()"
   ]
  },
  {
   "cell_type": "markdown",
   "metadata": {
    "slideshow": {
     "slide_type": "slide"
    }
   },
   "source": [
    "# Получение информации о содержимом\n",
    "\n",
    "Колонки и значения - **DataFrame.columns**, **DataFrame.values**\n",
    "\n",
    "- _dataframe.colums_\n",
    "- _dataframe.values_\n"
   ]
  },
  {
   "cell_type": "code",
   "execution_count": null,
   "metadata": {
    "slideshow": {
     "slide_type": "-"
    }
   },
   "outputs": [],
   "source": [
    "dataframe.columns"
   ]
  },
  {
   "cell_type": "code",
   "execution_count": null,
   "metadata": {
    "slideshow": {
     "slide_type": "-"
    }
   },
   "outputs": [],
   "source": [
    "dataframe.values"
   ]
  },
  {
   "cell_type": "markdown",
   "metadata": {
    "slideshow": {
     "slide_type": "slide"
    }
   },
   "source": [
    "Вывод на экран  - **DataFrame.head()**, **display(DataFrame)**\n",
    "\n",
    "- _dataframe.head()_\n",
    "- _display(dataframe)_\n"
   ]
  },
  {
   "cell_type": "code",
   "execution_count": null,
   "metadata": {
    "slideshow": {
     "slide_type": "slide"
    }
   },
   "outputs": [],
   "source": [
    "import numpy as np\n",
    "import pandas as pd\n",
    "df = pd.DataFrame(np.random.randint(0,100,size=(100, 100)))\n",
    "df.head()   # по умолчанию отображает первые 5 строк"
   ]
  },
  {
   "cell_type": "code",
   "execution_count": null,
   "metadata": {
    "slideshow": {
     "slide_type": "-"
    }
   },
   "outputs": [],
   "source": [
    "from IPython.display import display\n",
    "display(df)"
   ]
  },
  {
   "cell_type": "markdown",
   "metadata": {
    "slideshow": {
     "slide_type": "slide"
    }
   },
   "source": [
    "> Numpy - библиотека языка Python для удобной и гибкой работы с массивами (в основном многомерными)"
   ]
  },
  {
   "cell_type": "markdown",
   "metadata": {
    "slideshow": {
     "slide_type": "slide"
    }
   },
   "source": [
    "Аналогично для Series\n",
    "- _series.head()_\n",
    "- _display(series)_"
   ]
  },
  {
   "cell_type": "code",
   "execution_count": null,
   "metadata": {
    "slideshow": {
     "slide_type": "-"
    }
   },
   "outputs": [],
   "source": [
    "pd.Series(np.random.randn(100)).head(10)"
   ]
  },
  {
   "cell_type": "code",
   "execution_count": null,
   "metadata": {
    "slideshow": {
     "slide_type": "-"
    }
   },
   "outputs": [],
   "source": [
    "display(pd.Series(np.random.randn(100)))"
   ]
  },
  {
   "cell_type": "markdown",
   "metadata": {
    "slideshow": {
     "slide_type": "slide"
    }
   },
   "source": [
    "# Обращение к данным\n",
    "Два основных способа:\n",
    " - по значению индекса (**DataFrame.loc[index_value]**)\n",
    " - по порядковому номеру (**DataFrame.iloc[array_offset]**)"
   ]
  },
  {
   "cell_type": "markdown",
   "metadata": {
    "slideshow": {
     "slide_type": "slide"
    }
   },
   "source": [
    "Зададим новый индекс (по аналогии с реляционными СУБД - первичный ключ)"
   ]
  },
  {
   "cell_type": "code",
   "execution_count": null,
   "metadata": {
    "slideshow": {
     "slide_type": "-"
    }
   },
   "outputs": [],
   "source": [
    "new_dataframe = dataframe.set_index(\"key1\")\n",
    "display(dataframe)\n",
    "display(new_dataframe)"
   ]
  },
  {
   "cell_type": "code",
   "execution_count": null,
   "metadata": {
    "slideshow": {
     "slide_type": "-"
    }
   },
   "outputs": [],
   "source": [
    "new_dataframe.loc[\"value4\"]   # обращение по значению индекса"
   ]
  },
  {
   "cell_type": "code",
   "execution_count": null,
   "metadata": {
    "slideshow": {
     "slide_type": "-"
    }
   },
   "outputs": [],
   "source": [
    "new_dataframe.iloc[1]   # обращение по порядковому номеру"
   ]
  },
  {
   "cell_type": "markdown",
   "metadata": {
    "slideshow": {
     "slide_type": "slide"
    }
   },
   "source": [
    "# Фильтрация \n",
    "```\n",
    "dataframe[filter]\n",
    "```\n",
    "\n",
    "где _filter_ - условие или набор колонок"
   ]
  },
  {
   "cell_type": "code",
   "execution_count": null,
   "metadata": {
    "slideshow": {
     "slide_type": "-"
    }
   },
   "outputs": [],
   "source": [
    "filter = dataframe[\"key2\"].isin([\"value5\"])\n",
    "display(dataframe)\n",
    "display(dataframe[filter])"
   ]
  },
  {
   "cell_type": "code",
   "execution_count": null,
   "metadata": {
    "slideshow": {
     "slide_type": "-"
    }
   },
   "outputs": [],
   "source": [
    "display(dataframe[[\"key1\", \"key3\"]])"
   ]
  }
 ],
 "metadata": {
  "celltoolbar": "Слайд-шоу",
  "kernelspec": {
   "display_name": "Python 3",
   "language": "python",
   "name": "python3"
  },
  "language_info": {
   "codemirror_mode": {
    "name": "ipython",
    "version": 3
   },
   "file_extension": ".py",
   "mimetype": "text/x-python",
   "name": "python",
   "nbconvert_exporter": "python",
   "pygments_lexer": "ipython3",
   "version": "3.7.3"
  }
 },
 "nbformat": 4,
 "nbformat_minor": 2
}
