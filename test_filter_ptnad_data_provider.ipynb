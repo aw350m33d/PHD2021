{
 "cells": [
  {
   "cell_type": "code",
   "execution_count": null,
   "metadata": {
    "slideshow": {
     "slide_type": "slide"
    }
   },
   "outputs": [],
   "source": [
    "import pandas as pd\n",
    "from msticpy.nbtools.nbdisplaytools import df_display"
   ]
  },
  {
   "cell_type": "code",
   "execution_count": null,
   "metadata": {
    "slideshow": {
     "slide_type": "-"
    }
   },
   "outputs": [],
   "source": [
    "from msticpy.data import QueryProvider\n",
    "\n",
    "ptnad_data = QueryProvider(\"PTNAD\")\n",
    "proxy = {\n",
    "    \"http://\":\"http://127.0.0.1:7777\",\n",
    "    \"https://\":\"http://127.0.0.1:7777\"\n",
    "}\n",
    "connection_string = \"host=;username=PHD2021Buddy;password=,jysX>JH,2%6n@UN;stg_idx=4\"\n",
    "ptnad_data.connect(connection_string, intercept_if_red=False, loglevel=\"DEBUG\")"
   ]
  },
  {
   "cell_type": "code",
   "execution_count": null,
   "metadata": {
    "slideshow": {
     "slide_type": "slide"
    }
   },
   "outputs": [],
   "source": [
    "from msticpy.nbtools import nbwidgets\n",
    "\n",
    "q_times = nbwidgets.QueryTime(units='days', max_before=20, before=3, max_after=0)\n",
    "q_times.display()"
   ]
  },
  {
   "cell_type": "code",
   "execution_count": null,
   "metadata": {},
   "outputs": [],
   "source": [
    "q = !python3 /home/coder/sigma/tools/sigmac -t ptnad -c ptnad $HOME/sigma/rules/web/web_lolbin_user_agents.yml"
   ]
  },
  {
   "cell_type": "code",
   "execution_count": null,
   "metadata": {
    "slideshow": {
     "slide_type": "-"
    }
   },
   "outputs": [],
   "source": [
    "query = q[0]:\n",
    "query_flows = ptnad_data.exec_query(query=query, count=100, time_start=q_times.start, time_end=q_times.end)\n",
    "print(F'\\r\\nDataFrame shape: {query_flows.shape}\\r\\n')\n",
    "with pd.option_context('display.max_rows', 100,'display.max_colwidth', 1000):\n",
    "    display(query_flows[[\"start\", \"end\", \"app_proto\", \"src.ip\", \"src.port\", \"dst.ip\", \"dst.port\", \"banner.client\", \"banner.server\", \"id\"]])\n"
   ]
  }
 ],
 "metadata": {
  "celltoolbar": "Слайд-шоу",
  "kernelspec": {
   "display_name": "Python 3",
   "language": "python",
   "name": "python3"
  },
  "language_info": {
   "codemirror_mode": {
    "name": "ipython",
    "version": 3
   },
   "file_extension": ".py",
   "mimetype": "text/x-python",
   "name": "python",
   "nbconvert_exporter": "python",
   "pygments_lexer": "ipython3",
   "version": "3.7.3"
  }
 },
 "nbformat": 4,
 "nbformat_minor": 2
}
